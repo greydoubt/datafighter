{
  "nbformat": 4,
  "nbformat_minor": 0,
  "metadata": {
    "colab": {
      "name": "Scrape Tweets.ipynb",
      "provenance": []
    },
    "kernelspec": {
      "name": "python3",
      "display_name": "Python 3"
    }
  },
  "cells": [
    {
      "cell_type": "code",
      "metadata": {
        "id": "Vf-UA5-w8g5Z",
        "colab_type": "code",
        "colab": {}
      },
      "source": [
        "import numpy as np\n",
        "import pandas as pd"
      ],
      "execution_count": 0,
      "outputs": []
    },
    {
      "cell_type": "code",
      "metadata": {
        "id": "RGiiBmdU9ISy",
        "colab_type": "code",
        "outputId": "cfb28523-6c7b-4d17-949e-8b841b709e0e",
        "colab": {
          "base_uri": "https://localhost:8080/",
          "height": 107
        }
      },
      "source": [
        "pip install GetOldTweets3"
      ],
      "execution_count": 17,
      "outputs": [
        {
          "output_type": "stream",
          "text": [
            "Requirement already satisfied: GetOldTweets3 in /usr/local/lib/python3.6/dist-packages (0.0.11)\n",
            "Requirement already satisfied: lxml>=3.5.0 in /usr/local/lib/python3.6/dist-packages (from GetOldTweets3) (4.2.6)\n",
            "Requirement already satisfied: pyquery>=1.2.10 in /usr/local/lib/python3.6/dist-packages (from GetOldTweets3) (1.4.1)\n",
            "Requirement already satisfied: cssselect>0.7.9 in /usr/local/lib/python3.6/dist-packages (from pyquery>=1.2.10->GetOldTweets3) (1.1.0)\n"
          ],
          "name": "stdout"
        }
      ]
    },
    {
      "cell_type": "code",
      "metadata": {
        "id": "XJd8uZuP_8C6",
        "colab_type": "code",
        "colab": {}
      },
      "source": [
        "import GetOldTweets3 as got"
      ],
      "execution_count": 0,
      "outputs": []
    },
    {
      "cell_type": "code",
      "metadata": {
        "id": "Odynn1cgAPGQ",
        "colab_type": "code",
        "colab": {
          "base_uri": "https://localhost:8080/",
          "height": 197
        },
        "outputId": "0ffbd7ac-be97-475a-bfa2-a801c9f630d8"
      },
      "source": [
        "def get_tweets(keyword,count,fromDate,toDate):\n",
        "\n",
        "  tweetCriteria = got.manager.TweetCriteria().setQuerySearch(keyword)\\\n",
        "                                             .setSince(fromDate)\\\n",
        "                                             .setUntil(toDate)\\\n",
        "                                            .setMaxTweets(count)\n",
        "  tweets = got.manager.TweetManager.getTweets(tweetCriteria)\n",
        "\n",
        "  text_tweets = [[tweet.date, tweet.text] for tweet in tweets]\n",
        "\n",
        "  return text_tweets\n",
        "list_of_tweets=get_tweets(\"coronavirus\",200,\"2020-01-01\",\"2020-03-27\")\n",
        "cols=[\"Date & Time\",\"Tweet\"]\n",
        "df=pd.DataFrame(list_of_tweets,columns=cols)\n",
        "df.to_csv(\"output.csv\",index=False,header=True)\n",
        "df.head()\n",
        "\n",
        "                                    \n"
      ],
      "execution_count": 21,
      "outputs": [
        {
          "output_type": "execute_result",
          "data": {
            "text/html": [
              "<div>\n",
              "<style scoped>\n",
              "    .dataframe tbody tr th:only-of-type {\n",
              "        vertical-align: middle;\n",
              "    }\n",
              "\n",
              "    .dataframe tbody tr th {\n",
              "        vertical-align: top;\n",
              "    }\n",
              "\n",
              "    .dataframe thead th {\n",
              "        text-align: right;\n",
              "    }\n",
              "</style>\n",
              "<table border=\"1\" class=\"dataframe\">\n",
              "  <thead>\n",
              "    <tr style=\"text-align: right;\">\n",
              "      <th></th>\n",
              "      <th>Date &amp; Time</th>\n",
              "      <th>Tweet</th>\n",
              "    </tr>\n",
              "  </thead>\n",
              "  <tbody>\n",
              "    <tr>\n",
              "      <th>0</th>\n",
              "      <td>2020-03-26 23:59:59+00:00</td>\n",
              "      <td>Normal life, where the fuck are you?! Please c...</td>\n",
              "    </tr>\n",
              "    <tr>\n",
              "      <th>1</th>\n",
              "      <td>2020-03-26 23:59:59+00:00</td>\n",
              "      <td>No hace mucho que se me fueron encima aquí en ...</td>\n",
              "    </tr>\n",
              "    <tr>\n",
              "      <th>2</th>\n",
              "      <td>2020-03-26 23:59:59+00:00</td>\n",
              "      <td>Paremos la propagación del virus con: -Distanc...</td>\n",
              "    </tr>\n",
              "    <tr>\n",
              "      <th>3</th>\n",
              "      <td>2020-03-26 23:59:59+00:00</td>\n",
              "      <td>Why #Coronavirus Is Dangerous For #Diabetics? ...</td>\n",
              "    </tr>\n",
              "    <tr>\n",
              "      <th>4</th>\n",
              "      <td>2020-03-26 23:59:59+00:00</td>\n",
              "      <td>The Coronavirus is probably the only thing mad...</td>\n",
              "    </tr>\n",
              "  </tbody>\n",
              "</table>\n",
              "</div>"
            ],
            "text/plain": [
              "                Date & Time                                              Tweet\n",
              "0 2020-03-26 23:59:59+00:00  Normal life, where the fuck are you?! Please c...\n",
              "1 2020-03-26 23:59:59+00:00  No hace mucho que se me fueron encima aquí en ...\n",
              "2 2020-03-26 23:59:59+00:00  Paremos la propagación del virus con: -Distanc...\n",
              "3 2020-03-26 23:59:59+00:00  Why #Coronavirus Is Dangerous For #Diabetics? ...\n",
              "4 2020-03-26 23:59:59+00:00  The Coronavirus is probably the only thing mad..."
            ]
          },
          "metadata": {
            "tags": []
          },
          "execution_count": 21
        }
      ]
    },
    {
      "cell_type": "code",
      "metadata": {
        "id": "y5yJ2bFZB1V0",
        "colab_type": "code",
        "colab": {}
      },
      "source": [
        ""
      ],
      "execution_count": 0,
      "outputs": []
    }
  ]
}